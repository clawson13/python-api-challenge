{
 "cells": [
  {
   "cell_type": "markdown",
   "metadata": {},
   "source": [
    "# WeatherPy\n",
    "----\n",
    "\n",
    "#### Analysis\n",
    "Study compares geographical latitude's effect on four weather categories--Temperature, Humidity, Cloudiness, and Wind Speed.\n",
    "\n",
    "#### Observed Trends\n",
    "1.  Latitude did not show significant relationship to Humidity, Cloudiness, and Wind Speed categories.\n",
    "2.  Increasing latitude shown to have a direct relationship on decreasing temperatures in the Northern hemisphere; however, for comparable latitude increase in the Southern hemisphere, the relationship was much weaker.\n",
    "3.  Given comparable latitude numbers in both Northern and Southern hemispheres, and a strong temperature link in the North, but much weaker in the South, it should not be construed that latitude is the only contributing factor to global temperatures."
   ]
  },
  {
   "cell_type": "code",
   "execution_count": null,
   "metadata": {
    "scrolled": true
   },
   "outputs": [],
   "source": [
    "# Dependencies and Setup\n",
    "import matplotlib.pyplot as plt\n",
    "import pandas as pd\n",
    "import numpy as np\n",
    "import requests\n",
    "import time\n",
    "from scipy.stats import linregress\n",
    "\n",
    "# Import API key\n",
    "from api_keys import weather_api_key\n",
    "\n",
    "# Incorporated citipy to determine city based on latitude and longitude\n",
    "from citipy import citipy\n",
    "\n",
    "# Output File (CSV)\n",
    "output_data_file = \"output_data/cities.csv\"\n",
    "\n",
    "# Range of latitudes and longitudes\n",
    "lat_range = (-90, 90)\n",
    "lng_range = (-180, 180)"
   ]
  },
  {
   "cell_type": "markdown",
   "metadata": {},
   "source": [
    "## Generate Cities List"
   ]
  },
  {
   "cell_type": "code",
   "execution_count": null,
   "metadata": {},
   "outputs": [],
   "source": [
    "# List for holding lat_lngs and cities\n",
    "lat_lngs = []\n",
    "cities = []\n",
    "\n",
    "# Create a set of random lat and lng combinations\n",
    "lats = np.random.uniform(lat_range[0], lat_range[1], size=1500)\n",
    "lngs = np.random.uniform(lng_range[0], lng_range[1], size=1500)\n",
    "lat_lngs = zip(lats, lngs)\n",
    "\n",
    "# Identify nearest city for each lat, lng combination\n",
    "for lat_lng in lat_lngs:\n",
    "    city = citipy.nearest_city(lat_lng[0], lat_lng[1]).city_name\n",
    "    \n",
    "    # If the city is unique, then add it to a our cities list\n",
    "    if city not in cities:\n",
    "        cities.append(city)\n",
    "\n",
    "# Print the city count to confirm sufficient count\n",
    "len(cities)"
   ]
  },
  {
   "cell_type": "markdown",
   "metadata": {},
   "source": [
    "### Perform API Calls\n",
    "* Perform a weather check on each city using a series of successive API calls.\n",
    "* Include a print log of each city as it'sbeing processed (with the city number and city name).\n"
   ]
  },
  {
   "cell_type": "code",
   "execution_count": null,
   "metadata": {},
   "outputs": [],
   "source": [
    "# Save config information.\n",
    "url = \"http://api.openweathermap.org/data/2.5/weather?\"\n",
    "units = \"imperial\"\n",
    "\n",
    "# Build partial query URL\n",
    "query_url = f\"{url}appid={weather_api_key}&units={units}&q=\"\n",
    "\n",
    "# set up lists to hold reponse info\n",
    "city_final = []\n",
    "lat = []\n",
    "long = []\n",
    "maxtemp = []\n",
    "humidity = []\n",
    "cloudiness = []\n",
    "wind = []\n",
    "country = []\n",
    "date = []\n",
    "\n",
    "# Set variables for city numbers/Set counts\n",
    "record = 0\n",
    "recordset = 1\n",
    "\n",
    "# Display header for the print log\n",
    "print(\"Beginning Data Retrieval\")\n",
    "print(\"-----------------------------\")\n",
    "\n",
    "# Loop through the list of cities and perform a request for data on each\n",
    "for city in cities:\n",
    "    \n",
    "    try:\n",
    "        response = requests.get(query_url + city).json()\n",
    "        \n",
    "        # Add to city count\n",
    "        record += 1\n",
    "\n",
    "        # Print city to log\n",
    "        print(f\"Processing Record {record} of Set {recordset} | {city}\")\n",
    "        \n",
    "        # Append city's data to lists\n",
    "        city_final.append(response['name'])\n",
    "        lat.append(response['coord']['lat'])\n",
    "        long.append(response['coord']['lon'])    \n",
    "        maxtemp.append(response['main']['temp_max'])\n",
    "        humidity.append(response['main']['humidity'])    \n",
    "        cloudiness.append(response['clouds']['all'])\n",
    "        wind.append(response['wind']['speed'])    \n",
    "        country.append(response['sys']['country'])\n",
    "        date.append(response['sys']['sunrise'])\n",
    "        \n",
    "        # Reset the city count at 50 and step Set number\n",
    "        if record >= 50:\n",
    "            record = 0\n",
    "            recordset += 1\n",
    "            \n",
    "    except (KeyError, IndexError):\n",
    "        # Add to city count\n",
    "        record += 1        \n",
    "        # Reset the city count at 50 and step Set number\n",
    "        if record >= 50:\n",
    "            record = 0\n",
    "            recordset += 1\n",
    "        print(\"City not found. Skipping...\")\n",
    "\n",
    "# Display footer for the print log\n",
    "print(\"-----------------------------\")\n",
    "print(\"Data Retrieval Complete\")\n",
    "print(\"-----------------------------\")"
   ]
  },
  {
   "cell_type": "markdown",
   "metadata": {},
   "source": [
    "### Convert Raw Data to DataFrame\n",
    "* Export the city data into a .csv.\n",
    "* Display the DataFrame"
   ]
  },
  {
   "cell_type": "code",
   "execution_count": null,
   "metadata": {
    "scrolled": true
   },
   "outputs": [],
   "source": [
    "# Convert data to DataFrame\n",
    "weather_df = pd.DataFrame({\"City\": city_final,\n",
    "                          \"Lat\": lat,\n",
    "                          \"Lng\": long,\n",
    "                          \"Max Temp\": maxtemp,\n",
    "                          \"Humidity\": humidity,\n",
    "                          \"Cloudiness\": cloudiness,\n",
    "                          \"Wind Speed\": wind,\n",
    "                          \"Country\": country,\n",
    "                          \"Date\": date})\n",
    "\n",
    "# Format latitude/longitude for two decimal places only, retain as float\n",
    "weather_df['Lat'] = weather_df['Lat'].map('{:.2f}'.format).astype(float)\n",
    "weather_df['Lng'] = weather_df['Lng'].map('{:.2f}'.format).astype(float)\n",
    "\n",
    "# Export to CSV\n",
    "weather_df.to_csv(output_data_file, index=False, header=True)\n",
    "\n",
    "# Display the DataFrame\n",
    "weather_df.head()"
   ]
  },
  {
   "cell_type": "markdown",
   "metadata": {},
   "source": [
    "## Inspect the data and remove the cities where the humidity > 100%.\n",
    "----\n",
    "Skip this step if there are no cities that have humidity > 100%. "
   ]
  },
  {
   "cell_type": "code",
   "execution_count": null,
   "metadata": {},
   "outputs": [],
   "source": [
    "# Describe the DataFrame\n",
    "weather_df.describe()"
   ]
  },
  {
   "cell_type": "code",
   "execution_count": null,
   "metadata": {},
   "outputs": [],
   "source": [
    "# Get the indices of cities that have humidity over 100%.\n",
    "excess_humidity = weather_df.loc[weather_df['Humidity'] > 100].index\n",
    "excess_humidity"
   ]
  },
  {
   "cell_type": "code",
   "execution_count": null,
   "metadata": {},
   "outputs": [],
   "source": [
    "# Make a new DataFrame equal to the city data to drop all humidity outliers by index.\n",
    "# Passing \"inplace=False\" will make a copy of the city_data DataFrame, which we call \"clean_city_data\".\n",
    "clean_city_data = weather_df.drop(excess_humidity, inplace=False)\n",
    "clean_city_data.head()"
   ]
  },
  {
   "cell_type": "markdown",
   "metadata": {},
   "source": [
    "## Plotting the Data\n",
    "* Use proper labeling of the plots using plot titles (including date of analysis) and axes labels.\n",
    "* Save the plotted figures as .pngs in the output_data folder\n",
    "* Below are examples of what you should get but your results will be different."
   ]
  },
  {
   "cell_type": "markdown",
   "metadata": {},
   "source": [
    "## Latitude vs. Temperature Plot"
   ]
  },
  {
   "cell_type": "code",
   "execution_count": null,
   "metadata": {},
   "outputs": [],
   "source": [
    "# Convert Date column to datetime for date display\n",
    "clean_city_data['Date'] = clean_city_data['Date'].astype(\"datetime64[s]\")\n",
    "# Obtain the oldest date in our dataset to reflect dataset's age and apply formatting\n",
    "display_date = clean_city_data['Date'].min().strftime('%m/%d/%y')\n",
    "\n",
    "# Plot Latitude vs. Temperature with title, labels, and grid\n",
    "plt.scatter(clean_city_data['Lat'], clean_city_data['Max Temp'], marker=\"o\", facecolors=\"C0\", edgecolors=\"black\")\n",
    "plt.title(f\"City Latitude vs. Max Temperature ({display_date})\")\n",
    "plt.xlabel(\"Latitude\")\n",
    "plt.ylabel(\"Max Temperature (F)\")\n",
    "plt.grid()\n",
    "plt.savefig(\"Images/Lat_v_Temp.png\")\n",
    "plt.show()"
   ]
  },
  {
   "cell_type": "markdown",
   "metadata": {},
   "source": [
    "**Observed Trends:** Plot demonstrates Max Temperature increases as one approaches the equator, decreases as one moves away from the equator to higher latitudes. However, for the immediate dataset, comparing temperatures at equivalent, higher latitude levels on the Northern and Southern hemispheres do not show same equivalency: Northern temperatures in the dataset drop more precipitously as one moves to higher latitudes."
   ]
  },
  {
   "cell_type": "markdown",
   "metadata": {},
   "source": [
    "## Latitude vs. Humidity Plot"
   ]
  },
  {
   "cell_type": "code",
   "execution_count": null,
   "metadata": {},
   "outputs": [],
   "source": [
    "# Plot Latitude vs. Humidity with title, labels, and grid\n",
    "plt.scatter(clean_city_data['Lat'], clean_city_data['Humidity'], marker=\"o\", facecolors=\"C0\", edgecolors=\"black\")\n",
    "plt.title(f\"City Latitude vs. Humidity ({display_date})\")\n",
    "plt.xlabel(\"Latitude\")\n",
    "plt.ylabel(\"Humidity (%)\")\n",
    "plt.grid()\n",
    "plt.savefig(\"Images/Lat_v_Humidity.png\")\n",
    "plt.show()"
   ]
  },
  {
   "cell_type": "markdown",
   "metadata": {},
   "source": [
    "**Observed Trends:** Plot compares humidity levels against latitude. Visually, no immediate correlation is observed. However, lower, Northern latitudes may show a more concentrated cluster of lower humidity nearer the equator for reasons not immediately apparent from the plot's study."
   ]
  },
  {
   "cell_type": "markdown",
   "metadata": {},
   "source": [
    "## Latitude vs. Cloudiness Plot"
   ]
  },
  {
   "cell_type": "code",
   "execution_count": null,
   "metadata": {},
   "outputs": [],
   "source": [
    "# Plot Latitude vs. Cloudiness with title, labels, and grid\n",
    "plt.scatter(clean_city_data['Lat'], clean_city_data['Cloudiness'], marker=\"o\", facecolors=\"C0\", edgecolors=\"black\")\n",
    "plt.title(f\"City Latitude vs. Cloudiness ({display_date})\")\n",
    "plt.xlabel(\"Latitude\")\n",
    "plt.ylabel(\"Cloudiness (%)\")\n",
    "plt.grid()\n",
    "plt.savefig(\"Images/Lat_v_Cloudiness.png\")\n",
    "plt.show()"
   ]
  },
  {
   "cell_type": "markdown",
   "metadata": {},
   "source": [
    "**Observed Trends:** Plot compares cloudiness levels against latitude. Study points are distributed throughout the grid; no immediate correlation observed. "
   ]
  },
  {
   "cell_type": "markdown",
   "metadata": {},
   "source": [
    "## Latitude vs. Wind Speed Plot"
   ]
  },
  {
   "cell_type": "code",
   "execution_count": null,
   "metadata": {},
   "outputs": [],
   "source": [
    "# Plot Latitude vs. Wind Speed with title, labels, and grid\n",
    "plt.scatter(clean_city_data['Lat'], clean_city_data['Wind Speed'], marker=\"o\", facecolors=\"C0\", edgecolors=\"black\")\n",
    "plt.title(f\"City Latitude vs. Wind Speed ({display_date})\")\n",
    "plt.xlabel(\"Latitude\")\n",
    "plt.ylabel(\"Wind Speed (mph)\")\n",
    "plt.grid()\n",
    "plt.savefig(\"Images/Lat_v_Wind_Speed.png\")\n",
    "plt.show()"
   ]
  },
  {
   "cell_type": "markdown",
   "metadata": {},
   "source": [
    "**Observed Trends:** Plot compares wind speed against latitude levels. A handful of Northern cities show higher average wind speeds, but otherwise, study points are distributed throughout the grid under 20 mph average. No immediate correlation observed. "
   ]
  },
  {
   "cell_type": "markdown",
   "metadata": {},
   "source": [
    "## Linear Regression"
   ]
  },
  {
   "cell_type": "code",
   "execution_count": null,
   "metadata": {},
   "outputs": [],
   "source": [
    "# Create separate DataFrames for northern and southern hemispheres\n",
    "clean_city_data_north = pd.DataFrame(clean_city_data.loc[clean_city_data['Lat']>=0])\n",
    "clean_city_data_south = pd.DataFrame(clean_city_data.loc[clean_city_data['Lat']<0])"
   ]
  },
  {
   "cell_type": "markdown",
   "metadata": {},
   "source": [
    "####  Northern Hemisphere - Max Temp vs. Latitude Linear Regression"
   ]
  },
  {
   "cell_type": "code",
   "execution_count": null,
   "metadata": {},
   "outputs": [],
   "source": [
    "# Calculate linear regression for Northern Hemisphere Latitude vs. Max Temperature\n",
    "(slope, intercept, rvalue, pvalue, stderr) = linregress(clean_city_data_north['Lat'], clean_city_data_north['Max Temp'])\n",
    "regress_values = clean_city_data_north['Lat'] * slope + intercept\n",
    "line_eq = \"y = \" + str(round(slope,2)) + \"x + \" + str(round(intercept,2))\n",
    "\n",
    "# Plot Northern Hemisphere Latitude vs. Max Temperature with linear regression, labels\n",
    "plt.scatter(clean_city_data_north['Lat'], clean_city_data_north['Max Temp'], marker=\"o\")\n",
    "\n",
    "plt.plot(clean_city_data_north['Lat'],regress_values,\"r-\")\n",
    "plt.annotate(line_eq,(10,5),fontsize=15,color=\"red\")\n",
    "\n",
    "plt.title(f\"Northern Hemisphere: \\n City Latitude vs. Max Temperature ({display_date})\")\n",
    "plt.xlabel(\"Latitude\")\n",
    "plt.ylabel(\"Max Temp\")\n",
    "\n",
    "print(f\"The r-value is: {rvalue**2}\")\n",
    "plt.savefig(\"Images/Lat_v_Temp_North.png\")\n",
    "plt.show()"
   ]
  },
  {
   "cell_type": "markdown",
   "metadata": {},
   "source": [
    "**Observed Trends:** Plot compares maximum temperature against Northern latitude levels. Correlation shown with a very high r-value."
   ]
  },
  {
   "cell_type": "markdown",
   "metadata": {},
   "source": [
    "####  Southern Hemisphere - Max Temp vs. Latitude Linear Regression"
   ]
  },
  {
   "cell_type": "code",
   "execution_count": null,
   "metadata": {},
   "outputs": [],
   "source": [
    "# Calculate linear regression for Southern Hemisphere Latitude vs. Max Temperature\n",
    "(slope, intercept, rvalue, pvalue, stderr) = linregress(clean_city_data_south['Lat'], clean_city_data_south['Max Temp'])\n",
    "regress_values = clean_city_data_south['Lat'] * slope + intercept\n",
    "line_eq = \"y = \" + str(round(slope,2)) + \"x + \" + str(round(intercept,2))\n",
    "\n",
    "# Plot Southern Hemisphere Latitude vs. Max Temperature with linear regression, labels\n",
    "plt.scatter(clean_city_data_south['Lat'], clean_city_data_south['Max Temp'], marker=\"o\")\n",
    "\n",
    "plt.plot(clean_city_data_south['Lat'],regress_values,\"r-\")\n",
    "plt.annotate(line_eq,(-25,45),fontsize=15,color=\"red\")\n",
    "\n",
    "plt.title(f\"Southern Hemisphere: \\n City Latitude vs. Max Temperature ({display_date})\")\n",
    "plt.xlabel(\"Latitude\")\n",
    "plt.ylabel(\"Max Temp\")\n",
    "\n",
    "print(f\"The r-value is: {rvalue**2}\")\n",
    "plt.savefig(\"Images/Lat_v_Temp_South.png\")\n",
    "plt.show()"
   ]
  },
  {
   "cell_type": "markdown",
   "metadata": {},
   "source": [
    "**Observed Trends:** Plot compares maximum temperature against Southern latitude levels. Weak linear relationship shown with a lower r-value."
   ]
  },
  {
   "cell_type": "markdown",
   "metadata": {},
   "source": [
    "####  Northern Hemisphere - Humidity (%) vs. Latitude Linear Regression"
   ]
  },
  {
   "cell_type": "code",
   "execution_count": null,
   "metadata": {
    "scrolled": true
   },
   "outputs": [],
   "source": [
    "# Calculate linear regression for Northern Hemisphere Latitude vs. Humidity\n",
    "(slope, intercept, rvalue, pvalue, stderr) = linregress(clean_city_data_north['Lat'], clean_city_data_north['Humidity'])\n",
    "regress_values = clean_city_data_north['Lat'] * slope + intercept\n",
    "line_eq = \"y = \" + str(round(slope,2)) + \"x + \" + str(round(intercept,2))\n",
    "\n",
    "# Plot Northern Hemisphere Latitude vs. Humidity with linear regression, labels\n",
    "plt.scatter(clean_city_data_north['Lat'], clean_city_data_north['Humidity'], marker=\"o\")\n",
    "\n",
    "plt.plot(clean_city_data_north['Lat'],regress_values,\"r-\")\n",
    "plt.annotate(line_eq,(45,0.8),fontsize=15,color=\"red\")\n",
    "\n",
    "plt.title(f\"Northern Hemisphere: \\n City Latitude vs. Humidity (%) ({display_date})\")\n",
    "plt.xlabel(\"Latitude\")\n",
    "plt.ylabel(\"Humidity\")\n",
    "\n",
    "print(f\"The r-value is: {rvalue**2}\")\n",
    "plt.savefig(\"Images/Lat_v_Humidity_North.png\")\n",
    "plt.show()"
   ]
  },
  {
   "cell_type": "markdown",
   "metadata": {},
   "source": [
    "**Observed Trends:** Plot compares humidity against Northern latitude levels. No real correlation shown with a very low r-value."
   ]
  },
  {
   "cell_type": "markdown",
   "metadata": {},
   "source": [
    "####  Southern Hemisphere - Humidity (%) vs. Latitude Linear Regression"
   ]
  },
  {
   "cell_type": "code",
   "execution_count": null,
   "metadata": {},
   "outputs": [],
   "source": [
    "# Calculate linear regression for Southern Hemisphere Latitude vs. Humidity\n",
    "(slope, intercept, rvalue, pvalue, stderr) = linregress(clean_city_data_south['Lat'], clean_city_data_south['Humidity'])\n",
    "regress_values = clean_city_data_south['Lat'] * slope + intercept\n",
    "line_eq = \"y = \" + str(round(slope,2)) + \"x + \" + str(round(intercept,2))\n",
    "\n",
    "# Plot Southern Hemisphere Latitude vs. Humidity with linear regression, labels\n",
    "plt.scatter(clean_city_data_south['Lat'], clean_city_data_south['Humidity'], marker=\"o\")\n",
    "\n",
    "plt.plot(clean_city_data_south['Lat'],regress_values,\"r-\")\n",
    "plt.annotate(line_eq,(-25,25),fontsize=15,color=\"red\")\n",
    "\n",
    "plt.title(f\"Southern Hemisphere: \\n City Latitude vs. Humidity (%) ({display_date})\")\n",
    "plt.xlabel(\"Latitude\")\n",
    "plt.ylabel(\"Humidity\")\n",
    "\n",
    "print(f\"The r-value is: {rvalue**2}\")\n",
    "plt.savefig(\"Images/Lat_v_Humidity_South.png\")\n",
    "plt.show()"
   ]
  },
  {
   "cell_type": "markdown",
   "metadata": {},
   "source": [
    "**Observed Trends:** Plot compares humidity against Southern latitude levels. Very weak correlation shown with a low r-value."
   ]
  },
  {
   "cell_type": "markdown",
   "metadata": {},
   "source": [
    "####  Northern Hemisphere - Cloudiness (%) vs. Latitude Linear Regression"
   ]
  },
  {
   "cell_type": "code",
   "execution_count": null,
   "metadata": {},
   "outputs": [],
   "source": [
    "# Calculate linear regression for Northern Hemisphere Latitude vs. Cloudiness\n",
    "(slope, intercept, rvalue, pvalue, stderr) = linregress(clean_city_data_north['Lat'], clean_city_data_north['Cloudiness'])\n",
    "regress_values = clean_city_data_north['Lat'] * slope + intercept\n",
    "line_eq = \"y = \" + str(round(slope,2)) + \"x + \" + str(round(intercept,2))\n",
    "\n",
    "# Plot Northern Hemisphere Latitude vs. Cloudiness with linear regression, labels\n",
    "plt.scatter(clean_city_data_north['Lat'], clean_city_data_north['Cloudiness'], marker=\"o\")\n",
    "\n",
    "plt.plot(clean_city_data_north['Lat'],regress_values,\"r-\")\n",
    "plt.annotate(line_eq,(5.8,10),fontsize=15,color=\"red\")\n",
    "\n",
    "plt.title(f\"Northern Hemisphere: \\n City Latitude vs. Cloudiness (%) ({display_date})\")\n",
    "plt.xlabel(\"Latitude\")\n",
    "plt.ylabel(\"Cloudiness\")\n",
    "\n",
    "print(f\"The r-value is: {rvalue**2}\")\n",
    "plt.savefig(\"Images/Lat_v_Cloudiness_North.png\")\n",
    "plt.show()"
   ]
  },
  {
   "cell_type": "markdown",
   "metadata": {},
   "source": [
    "**Observed Trends:** Plot compares cloudiness against Northern latitude levels. Weak linear relationship shown by a very low r-value."
   ]
  },
  {
   "cell_type": "markdown",
   "metadata": {},
   "source": [
    "####  Southern Hemisphere - Cloudiness (%) vs. Latitude Linear Regression"
   ]
  },
  {
   "cell_type": "code",
   "execution_count": null,
   "metadata": {},
   "outputs": [],
   "source": [
    "# Calculate linear regression for Southern Hemisphere Latitude vs. Cloudiness\n",
    "(slope, intercept, rvalue, pvalue, stderr) = linregress(clean_city_data_south['Lat'], clean_city_data_south['Cloudiness'])\n",
    "regress_values = clean_city_data_south['Lat'] * slope + intercept\n",
    "line_eq = \"y = \" + str(round(slope,2)) + \"x + \" + str(round(intercept,2))\n",
    "\n",
    "# Plot Southern Hemisphere Latitude vs. Cloudiness with linear regression, labels\n",
    "plt.scatter(clean_city_data_south['Lat'], clean_city_data_south['Cloudiness'], marker=\"o\")\n",
    "\n",
    "plt.plot(clean_city_data_south['Lat'],regress_values,\"r-\")\n",
    "plt.annotate(line_eq,(-25,10),fontsize=15,color=\"red\")\n",
    "\n",
    "plt.title(f\"Southern Hemisphere: \\n City Latitude vs. Cloudiness (%) ({display_date})\")\n",
    "plt.xlabel(\"Latitude\")\n",
    "plt.ylabel(\"Cloudiness\")\n",
    "\n",
    "print(f\"The r-value is: {rvalue**2}\")\n",
    "plt.savefig(\"Images/Lat_v_Cloudiness_South.png\")\n",
    "plt.show()"
   ]
  },
  {
   "cell_type": "markdown",
   "metadata": {},
   "source": [
    "**Observed Trends:** Plot compares cloudiness against Southern latitude levels. Weak linear relationship shown with a very low r-value."
   ]
  },
  {
   "cell_type": "markdown",
   "metadata": {},
   "source": [
    "####  Northern Hemisphere - Wind Speed (mph) vs. Latitude Linear Regression"
   ]
  },
  {
   "cell_type": "code",
   "execution_count": null,
   "metadata": {},
   "outputs": [],
   "source": [
    "# Calculate linear regression for Northern Hemisphere Latitude vs. Wind Speed\n",
    "(slope, intercept, rvalue, pvalue, stderr) = linregress(clean_city_data_north['Lat'], clean_city_data_north['Wind Speed'])\n",
    "regress_values = clean_city_data_north['Lat'] * slope + intercept\n",
    "line_eq = \"y = \" + str(round(slope,2)) + \"x + \" + str(round(intercept,2))\n",
    "\n",
    "# Plot Northern Hemisphere Latitude vs. Wind Speed with linear regression, labels\n",
    "plt.scatter(clean_city_data_north['Lat'], clean_city_data_north['Wind Speed'], marker=\"o\")\n",
    "\n",
    "plt.plot(clean_city_data_north['Lat'],regress_values,\"r-\")\n",
    "plt.annotate(line_eq,(5.8,0.8),fontsize=15,color=\"red\")\n",
    "\n",
    "plt.title(f\"Northern Hemisphere: \\n City Latitude vs. Wind Speed (mph) ({display_date})\")\n",
    "plt.xlabel(\"Latitude\")\n",
    "plt.ylabel(\"Wind Speed\")\n",
    "\n",
    "print(f\"The r-value is: {rvalue**2}\")\n",
    "plt.savefig(\"Images/Lat_v_Wind_Speed_North.png\")\n",
    "plt.show()"
   ]
  },
  {
   "cell_type": "markdown",
   "metadata": {},
   "source": [
    "**Observed Trends:** Plot compares wind speed against Northern latitude levels. Weak linear relationship shown by a very low r-value."
   ]
  },
  {
   "cell_type": "markdown",
   "metadata": {},
   "source": [
    "####  Southern Hemisphere - Wind Speed (mph) vs. Latitude Linear Regression"
   ]
  },
  {
   "cell_type": "code",
   "execution_count": null,
   "metadata": {},
   "outputs": [],
   "source": [
    "# Calculate linear regression for Southern Hemisphere Latitude vs. Wind Speed\n",
    "(slope, intercept, rvalue, pvalue, stderr) = linregress(clean_city_data_south['Lat'], clean_city_data_south['Wind Speed'])\n",
    "regress_values = clean_city_data_south['Lat'] * slope + intercept\n",
    "line_eq = \"y = \" + str(round(slope,2)) + \"x + \" + str(round(intercept,2))\n",
    "\n",
    "# Plot Southern Hemisphere Latitude vs. Wind Speed with linear regression, labels\n",
    "plt.scatter(clean_city_data_south['Lat'], clean_city_data_south['Wind Speed'], marker=\"o\")\n",
    "\n",
    "plt.plot(clean_city_data_south['Lat'],regress_values,\"r-\")\n",
    "plt.annotate(line_eq,(-45,3),fontsize=15,color=\"red\")\n",
    "\n",
    "plt.title(f\"Southern Hemisphere: \\n City Latitude vs. Wind Speed (mph) ({display_date})\")\n",
    "plt.xlabel(\"Latitude\")\n",
    "plt.ylabel(\"Wind Speed\")\n",
    "\n",
    "print(f\"The r-value is: {rvalue**2}\")\n",
    "plt.savefig(\"Images/Lat_v_Wind_Speed_South.png\")\n",
    "plt.show()"
   ]
  },
  {
   "cell_type": "markdown",
   "metadata": {},
   "source": [
    "**Observed Trends:** Plot compares wind speed against Southern latitude levels. Weak linear relationship shown with a very low r-value."
   ]
  },
  {
   "cell_type": "code",
   "execution_count": null,
   "metadata": {},
   "outputs": [],
   "source": []
  }
 ],
 "metadata": {
  "anaconda-cloud": {},
  "kernel_info": {
   "name": "python3"
  },
  "kernelspec": {
   "display_name": "Python [conda env:PythonData38] *",
   "language": "python",
   "name": "conda-env-PythonData38-py"
  },
  "language_info": {
   "codemirror_mode": {
    "name": "ipython",
    "version": 3
   },
   "file_extension": ".py",
   "mimetype": "text/x-python",
   "name": "python",
   "nbconvert_exporter": "python",
   "pygments_lexer": "ipython3",
   "version": "3.8.12"
  },
  "latex_envs": {
   "LaTeX_envs_menu_present": true,
   "autoclose": false,
   "autocomplete": true,
   "bibliofile": "biblio.bib",
   "cite_by": "apalike",
   "current_citInitial": 1,
   "eqLabelWithNumbers": true,
   "eqNumInitial": 1,
   "hotkeys": {
    "equation": "Ctrl-E",
    "itemize": "Ctrl-I"
   },
   "labels_anchors": false,
   "latex_user_defs": false,
   "report_style_numbering": false,
   "user_envs_cfg": false
  },
  "nteract": {
   "version": "0.12.3"
  }
 },
 "nbformat": 4,
 "nbformat_minor": 2
}
